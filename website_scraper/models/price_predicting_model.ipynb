{
 "cells": [
  {
   "cell_type": "code",
   "execution_count": 1,
   "metadata": {},
   "outputs": [],
   "source": [
    "import numpy as np\n",
    "import matplotlib.pyplot as plt\n",
    "from sklearn.ensemble import RandomForestClassifier\n",
    "from sklearn.model_selection import train_test_split\n",
    "import seaborn as sns\n",
    "import pandas as pd"
   ]
  },
  {
   "cell_type": "code",
   "execution_count": 2,
   "metadata": {},
   "outputs": [
    {
     "data": {
      "text/html": [
       "<div>\n",
       "<style scoped>\n",
       "    .dataframe tbody tr th:only-of-type {\n",
       "        vertical-align: middle;\n",
       "    }\n",
       "\n",
       "    .dataframe tbody tr th {\n",
       "        vertical-align: top;\n",
       "    }\n",
       "\n",
       "    .dataframe thead th {\n",
       "        text-align: right;\n",
       "    }\n",
       "</style>\n",
       "<table border=\"1\" class=\"dataframe\">\n",
       "  <thead>\n",
       "    <tr style=\"text-align: right;\">\n",
       "      <th></th>\n",
       "      <th>title</th>\n",
       "      <th>description</th>\n",
       "      <th>property_type</th>\n",
       "      <th>transaction_type</th>\n",
       "      <th>price</th>\n",
       "      <th>province</th>\n",
       "      <th>district</th>\n",
       "      <th>ward</th>\n",
       "      <th>street</th>\n",
       "      <th>location_latitude</th>\n",
       "      <th>location_longitude</th>\n",
       "      <th>owner_name</th>\n",
       "      <th>owner_contact</th>\n",
       "      <th>area</th>\n",
       "      <th>bedrooms</th>\n",
       "      <th>bathrooms</th>\n",
       "    </tr>\n",
       "  </thead>\n",
       "  <tbody>\n",
       "    <tr>\n",
       "      <th>0</th>\n",
       "      <td>Cho Thuê Phòng Q10.rộng rãi.b côg.mới keng.tần...</td>\n",
       "      <td>❤Còn 3 phòng cho thuê như hình hoặc Nguyên Tần...</td>\n",
       "      <td>room</td>\n",
       "      <td>rent</td>\n",
       "      <td>2.5</td>\n",
       "      <td>TPHCM</td>\n",
       "      <td>Quận 10</td>\n",
       "      <td>Phường 12</td>\n",
       "      <td>Tô Hiến Thành</td>\n",
       "      <td>106.672699</td>\n",
       "      <td>10.773972</td>\n",
       "      <td>Trieu Anh</td>\n",
       "      <td>838999988</td>\n",
       "      <td>16</td>\n",
       "      <td>0</td>\n",
       "      <td>0</td>\n",
       "    </tr>\n",
       "    <tr>\n",
       "      <th>1</th>\n",
       "      <td>Khai Trương Phòng Trọ Sinh Viên Ngay Lotte</td>\n",
       "      <td>Vị trí : 364 Lê Đức Thọ, Phường 6 , Gò VấpƯU Đ...</td>\n",
       "      <td>room</td>\n",
       "      <td>rent</td>\n",
       "      <td>3.3</td>\n",
       "      <td>TPHCM</td>\n",
       "      <td>Quận Gò Vấp</td>\n",
       "      <td>Phường 6</td>\n",
       "      <td>364 Lê Đức Thọ</td>\n",
       "      <td>106.682907</td>\n",
       "      <td>10.842569</td>\n",
       "      <td>Trung Nhân</td>\n",
       "      <td>886220506</td>\n",
       "      <td>30</td>\n",
       "      <td>0</td>\n",
       "      <td>0</td>\n",
       "    </tr>\n",
       "    <tr>\n",
       "      <th>2</th>\n",
       "      <td>Phòng Đẹp ngay MT 29 Bàu Cát 6, P.14, Q Tân Bì...</td>\n",
       "      <td>+ Phòng cho thuê đẹp ngay MT 29 Bàu Cát 6, Phư...</td>\n",
       "      <td>room</td>\n",
       "      <td>rent</td>\n",
       "      <td>2.0</td>\n",
       "      <td>TPHCM</td>\n",
       "      <td>Quận Tân Bình</td>\n",
       "      <td>Phường 14</td>\n",
       "      <td>Bàu Cát 6</td>\n",
       "      <td>106.641304</td>\n",
       "      <td>10.793849</td>\n",
       "      <td>Lê Huy Hoàng</td>\n",
       "      <td>937554570</td>\n",
       "      <td>16</td>\n",
       "      <td>0</td>\n",
       "      <td>0</td>\n",
       "    </tr>\n",
       "    <tr>\n",
       "      <th>3</th>\n",
       "      <td>Cho thuê Phòng trọ mới xây mặt tiền Gò Dầu,...</td>\n",
       "      <td>Cho thuê Phòng trọ mới xây có thang máy, giờ t...</td>\n",
       "      <td>room</td>\n",
       "      <td>rent</td>\n",
       "      <td>2.3</td>\n",
       "      <td>TPHCM</td>\n",
       "      <td>Quận Tân Phú</td>\n",
       "      <td>Phường Tân Quý</td>\n",
       "      <td>178 Gò Dầu</td>\n",
       "      <td>106.621914</td>\n",
       "      <td>10.794777</td>\n",
       "      <td>LÊ  VĂN DŨNG</td>\n",
       "      <td>983238568</td>\n",
       "      <td>40</td>\n",
       "      <td>0</td>\n",
       "      <td>0</td>\n",
       "    </tr>\n",
       "    <tr>\n",
       "      <th>4</th>\n",
       "      <td>Phòng 50m2,phù hợp gia đình nhỏ,ban công rất r...</td>\n",
       "      <td>Nhà mới, thiết kế đẹp, rộng rãi, vị trí ngay g...</td>\n",
       "      <td>room</td>\n",
       "      <td>rent</td>\n",
       "      <td>5.5</td>\n",
       "      <td>TPHCM</td>\n",
       "      <td>Quận Bình Thạnh</td>\n",
       "      <td>Phường 13</td>\n",
       "      <td>Đặng Thùy Trâm</td>\n",
       "      <td>106.702690</td>\n",
       "      <td>10.831265</td>\n",
       "      <td>nguyen chi huong</td>\n",
       "      <td>902400145</td>\n",
       "      <td>50</td>\n",
       "      <td>0</td>\n",
       "      <td>0</td>\n",
       "    </tr>\n",
       "  </tbody>\n",
       "</table>\n",
       "</div>"
      ],
      "text/plain": [
       "                                               title  \\\n",
       "0  Cho Thuê Phòng Q10.rộng rãi.b côg.mới keng.tần...   \n",
       "1         Khai Trương Phòng Trọ Sinh Viên Ngay Lotte   \n",
       "2  Phòng Đẹp ngay MT 29 Bàu Cát 6, P.14, Q Tân Bì...   \n",
       "3  Cho thuê Phòng trọ mới xây mặt tiền Gò Dầu,...   \n",
       "4  Phòng 50m2,phù hợp gia đình nhỏ,ban công rất r...   \n",
       "\n",
       "                                         description property_type  \\\n",
       "0  ❤Còn 3 phòng cho thuê như hình hoặc Nguyên Tần...          room   \n",
       "1  Vị trí : 364 Lê Đức Thọ, Phường 6 , Gò VấpƯU Đ...          room   \n",
       "2  + Phòng cho thuê đẹp ngay MT 29 Bàu Cát 6, Phư...          room   \n",
       "3  Cho thuê Phòng trọ mới xây có thang máy, giờ t...          room   \n",
       "4  Nhà mới, thiết kế đẹp, rộng rãi, vị trí ngay g...          room   \n",
       "\n",
       "  transaction_type  price province         district            ward  \\\n",
       "0             rent    2.5    TPHCM          Quận 10       Phường 12   \n",
       "1             rent    3.3    TPHCM      Quận Gò Vấp        Phường 6   \n",
       "2             rent    2.0    TPHCM    Quận Tân Bình       Phường 14   \n",
       "3             rent    2.3    TPHCM     Quận Tân Phú  Phường Tân Quý   \n",
       "4             rent    5.5    TPHCM  Quận Bình Thạnh       Phường 13   \n",
       "\n",
       "           street  location_latitude  location_longitude        owner_name  \\\n",
       "0   Tô Hiến Thành         106.672699           10.773972         Trieu Anh   \n",
       "1  364 Lê Đức Thọ         106.682907           10.842569        Trung Nhân   \n",
       "2       Bàu Cát 6         106.641304           10.793849      Lê Huy Hoàng   \n",
       "3      178 Gò Dầu         106.621914           10.794777      LÊ  VĂN DŨNG   \n",
       "4  Đặng Thùy Trâm         106.702690           10.831265  nguyen chi huong   \n",
       "\n",
       "   owner_contact  area  bedrooms  bathrooms  \n",
       "0      838999988    16         0          0  \n",
       "1      886220506    30         0          0  \n",
       "2      937554570    16         0          0  \n",
       "3      983238568    40         0          0  \n",
       "4      902400145    50         0          0  "
      ]
     },
     "execution_count": 2,
     "metadata": {},
     "output_type": "execute_result"
    }
   ],
   "source": [
    "df = pd.read_csv('../mogi_after_parsing.csv')\n",
    "df.head()"
   ]
  },
  {
   "cell_type": "markdown",
   "metadata": {},
   "source": [
    "# Data exploration"
   ]
  },
  {
   "cell_type": "code",
   "execution_count": 3,
   "metadata": {},
   "outputs": [
    {
     "data": {
      "text/html": [
       "<div>\n",
       "<style scoped>\n",
       "    .dataframe tbody tr th:only-of-type {\n",
       "        vertical-align: middle;\n",
       "    }\n",
       "\n",
       "    .dataframe tbody tr th {\n",
       "        vertical-align: top;\n",
       "    }\n",
       "\n",
       "    .dataframe thead th {\n",
       "        text-align: right;\n",
       "    }\n",
       "</style>\n",
       "<table border=\"1\" class=\"dataframe\">\n",
       "  <thead>\n",
       "    <tr style=\"text-align: right;\">\n",
       "      <th></th>\n",
       "      <th>price</th>\n",
       "      <th>province</th>\n",
       "      <th>district</th>\n",
       "      <th>ward</th>\n",
       "      <th>street</th>\n",
       "      <th>location_latitude</th>\n",
       "      <th>location_longitude</th>\n",
       "      <th>area</th>\n",
       "    </tr>\n",
       "  </thead>\n",
       "  <tbody>\n",
       "    <tr>\n",
       "      <th>0</th>\n",
       "      <td>2.5</td>\n",
       "      <td>TPHCM</td>\n",
       "      <td>Quận 10</td>\n",
       "      <td>Phường 12</td>\n",
       "      <td>Tô Hiến Thành</td>\n",
       "      <td>106.672699</td>\n",
       "      <td>10.773972</td>\n",
       "      <td>16</td>\n",
       "    </tr>\n",
       "    <tr>\n",
       "      <th>1</th>\n",
       "      <td>3.3</td>\n",
       "      <td>TPHCM</td>\n",
       "      <td>Quận Gò Vấp</td>\n",
       "      <td>Phường 6</td>\n",
       "      <td>364 Lê Đức Thọ</td>\n",
       "      <td>106.682907</td>\n",
       "      <td>10.842569</td>\n",
       "      <td>30</td>\n",
       "    </tr>\n",
       "    <tr>\n",
       "      <th>2</th>\n",
       "      <td>2.0</td>\n",
       "      <td>TPHCM</td>\n",
       "      <td>Quận Tân Bình</td>\n",
       "      <td>Phường 14</td>\n",
       "      <td>Bàu Cát 6</td>\n",
       "      <td>106.641304</td>\n",
       "      <td>10.793849</td>\n",
       "      <td>16</td>\n",
       "    </tr>\n",
       "    <tr>\n",
       "      <th>3</th>\n",
       "      <td>2.3</td>\n",
       "      <td>TPHCM</td>\n",
       "      <td>Quận Tân Phú</td>\n",
       "      <td>Phường Tân Quý</td>\n",
       "      <td>178 Gò Dầu</td>\n",
       "      <td>106.621914</td>\n",
       "      <td>10.794777</td>\n",
       "      <td>40</td>\n",
       "    </tr>\n",
       "    <tr>\n",
       "      <th>4</th>\n",
       "      <td>5.5</td>\n",
       "      <td>TPHCM</td>\n",
       "      <td>Quận Bình Thạnh</td>\n",
       "      <td>Phường 13</td>\n",
       "      <td>Đặng Thùy Trâm</td>\n",
       "      <td>106.702690</td>\n",
       "      <td>10.831265</td>\n",
       "      <td>50</td>\n",
       "    </tr>\n",
       "  </tbody>\n",
       "</table>\n",
       "</div>"
      ],
      "text/plain": [
       "   price province         district            ward          street  \\\n",
       "0    2.5    TPHCM          Quận 10       Phường 12   Tô Hiến Thành   \n",
       "1    3.3    TPHCM      Quận Gò Vấp        Phường 6  364 Lê Đức Thọ   \n",
       "2    2.0    TPHCM    Quận Tân Bình       Phường 14       Bàu Cát 6   \n",
       "3    2.3    TPHCM     Quận Tân Phú  Phường Tân Quý      178 Gò Dầu   \n",
       "4    5.5    TPHCM  Quận Bình Thạnh       Phường 13  Đặng Thùy Trâm   \n",
       "\n",
       "   location_latitude  location_longitude  area  \n",
       "0         106.672699           10.773972    16  \n",
       "1         106.682907           10.842569    30  \n",
       "2         106.641304           10.793849    16  \n",
       "3         106.621914           10.794777    40  \n",
       "4         106.702690           10.831265    50  "
      ]
     },
     "execution_count": 3,
     "metadata": {},
     "output_type": "execute_result"
    }
   ],
   "source": [
    "df.drop(['bedrooms', 'bathrooms', 'title', 'description', 'property_type', 'transaction_type', 'owner_name', 'owner_contact'], axis=1, inplace=True)\n",
    "df.head()"
   ]
  },
  {
   "cell_type": "code",
   "execution_count": 4,
   "metadata": {},
   "outputs": [
    {
     "data": {
      "text/plain": [
       "(450, 8)"
      ]
     },
     "execution_count": 4,
     "metadata": {},
     "output_type": "execute_result"
    }
   ],
   "source": [
    "df.shape"
   ]
  },
  {
   "cell_type": "code",
   "execution_count": 6,
   "metadata": {},
   "outputs": [
    {
     "data": {
      "text/plain": [
       "Index(['price', 'province', 'district', 'ward', 'street', 'location_latitude',\n",
       "       'location_longitude', 'area'],\n",
       "      dtype='object')"
      ]
     },
     "execution_count": 6,
     "metadata": {},
     "output_type": "execute_result"
    }
   ],
   "source": [
    "df.keys()"
   ]
  },
  {
   "cell_type": "markdown",
   "metadata": {},
   "source": [
    "# Data visualization"
   ]
  },
  {
   "cell_type": "code",
   "execution_count": 5,
   "metadata": {},
   "outputs": [
    {
     "data": {
      "image/png": "[encoded data removed]",
      "text/plain": [
       "<Figure size 640x480 with 1 Axes>"
      ]
     },
     "metadata": {},
     "output_type": "display_data"
    }
   ],
   "source": [
    "plt.scatter(df['area'], df['price'])\n",
    "plt.xlabel('Area')\n",
    "plt.ylabel('Price')\n",
    "plt.title('Scatter Plot of Price vs Area')\n",
    "plt.show()\n"
   ]
  },
  {
   "cell_type": "code",
   "execution_count": null,
   "metadata": {},
   "outputs": [],
   "source": []
  }
 ],
 "metadata": {
  "kernelspec": {
   "display_name": "env",
   "language": "python",
   "name": "python3"
  },
  "language_info": {
   "codemirror_mode": {
    "name": "ipython",
    "version": 3
   },
   "file_extension": ".py",
   "mimetype": "text/x-python",
   "name": "python",
   "nbconvert_exporter": "python",
   "pygments_lexer": "ipython3",
   "version": "3.12.2"
  }
 },
 "nbformat": 4,
 "nbformat_minor": 2
}
